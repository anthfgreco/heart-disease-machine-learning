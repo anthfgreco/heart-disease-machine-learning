{
 "cells": [
  {
   "cell_type": "code",
   "execution_count": null,
   "id": "822ccc06",
   "metadata": {},
   "outputs": [],
   "source": [
    "import matplotlib.pyplot as plt\n",
    "import pandas as pd\n",
    "import numpy as np\n",
    "import seaborn as sns\n",
    "from helper import *"
   ]
  },
  {
   "cell_type": "markdown",
   "id": "7aacc93f",
   "metadata": {},
   "source": [
    "# Baseline vs Optimized Model Accuracy"
   ]
  },
  {
   "cell_type": "code",
   "execution_count": null,
   "id": "0b893f13",
   "metadata": {},
   "outputs": [],
   "source": [
    "tunedScores = pd.read_csv('tunedScores.csv')\n",
    "baselineScores = pd.read_csv('baselineScores.csv')\n",
    "tunedTest = tunedScores.iloc[:, [1, 3, 5, 7, 9, 11, 13]]\n",
    "baselineTest = baselineScores.iloc[:, [1, 3, 5, 7, 9, 11, 13]]"
   ]
  },
  {
   "cell_type": "code",
   "execution_count": null,
   "id": "60460a1a",
   "metadata": {},
   "outputs": [],
   "source": [
    "models = ['LR', 'NB', 'KNN', 'SVM', 'DT', 'RF', 'ANN']\n",
    "baseline = baselineTest.iloc[0].to_numpy()\n",
    "tuned = tunedTest.iloc[0].to_numpy()"
   ]
  },
  {
   "cell_type": "code",
   "execution_count": null,
   "id": "f0b610d8",
   "metadata": {},
   "outputs": [],
   "source": [
    "x = np.arange(len(models))\n",
    "width = 0.3  # the width of the bars\n",
    "\n",
    "fig, ax = plt.subplots(figsize=(10, 7))\n",
    "baseBars = ax.bar(x - width/2, baseline, width, label='Baseline Model', color='red')\n",
    "tuneBars = ax.bar(x + width/2, tuned, width, label='Optimized Model', color='black')\n",
    "\n",
    "ax.set_xlabel('Machine Learning Model', fontsize=15)\n",
    "ax.set_ylim([75, 90])\n",
    "ax.set_ylabel('Accuracy Score (%)', fontsize=15)\n",
    "ax.set_title('Test Accuracy Score for Baseline vs Optimized Models', size=15)\n",
    "ax.set_xticks(x)\n",
    "ax.set_xticklabels(models)\n",
    "ax.legend(fontsize=15)\n",
    "\n",
    "fig.tight_layout()\n",
    "\n",
    "fig.savefig('plots/baselineOptimizedPlot.png')"
   ]
  },
  {
   "cell_type": "markdown",
   "id": "5d556a0e",
   "metadata": {},
   "source": [
    "# Data Distribution Plot"
   ]
  },
  {
   "cell_type": "code",
   "execution_count": null,
   "id": "a85aef9f",
   "metadata": {},
   "outputs": [],
   "source": [
    "data = pd.read_csv('heart.csv')\n",
    "y = data.iloc[:,11]\n",
    "y = y.to_numpy()"
   ]
  },
  {
   "cell_type": "code",
   "execution_count": null,
   "id": "0c436d21",
   "metadata": {},
   "outputs": [],
   "source": [
    "zeros = round(np.count_nonzero(y<1)/918*100)\n",
    "ones = 100\n",
    "plt.figure(figsize=(10, 2))\n",
    "plt.title('Distribution of Classes in Dataset', fontsize=15)\n",
    "plt.xlabel('Percentage of Dataset', fontsize=12)\n",
    "plt.barh(' ', ones, height=0.2, label='1', color='red')\n",
    "plt.barh(' ', zeros, height=0.2, label='0', color='black')\n",
    "plt.barh(' ', 0, height=0.4)\n",
    "plt.ylabel('Kaggle Dataset', fontsize=12)\n",
    "plt.legend()\n",
    "plt.tight_layout()\n",
    "plt.savefig('plots/classDist.png')"
   ]
  },
  {
   "cell_type": "markdown",
   "id": "7443d6a1",
   "metadata": {},
   "source": [
    "# Spearman's Correlation Heat Map"
   ]
  },
  {
   "cell_type": "code",
   "execution_count": null,
   "id": "e8ee9224",
   "metadata": {},
   "outputs": [],
   "source": [
    "x, y = load_dataset('heart_encoded.csv')\n",
    "data = np.column_stack((x, y))\n",
    "columns = \"Age  Sex  CPT_ASY  CPT_ATA  CPT_NAP  CPT_TA  RestingBP  Cholesterol  FastingBS  rECG_LVH  rECG_Normal  rECG_ST  MaxHR  ExerciseAngina  Oldpeak  stSlope_Down  stSlope_Flat  stSlope_Up HeartDisease\"\n",
    "columns = columns.split()\n",
    "dataframe = pd.DataFrame(data, columns=columns)"
   ]
  },
  {
   "cell_type": "code",
   "execution_count": null,
   "id": "d1b0e94f",
   "metadata": {},
   "outputs": [],
   "source": [
    "plt.figure(figsize=(18, 15))\n",
    "sns.set_context(context=\"paper\", font_scale=1.7)\n",
    "plt.title(\"Correlation Matrix\")\n",
    "sns.heatmap(dataframe.corr(), annot=False, cmap='Blues')\n",
    "plt.savefig(\"plots/corr_matrix.png\")\n",
    "plt.close()"
   ]
  }
 ],
 "metadata": {
  "kernelspec": {
   "display_name": "Python 3",
   "language": "python",
   "name": "python3"
  },
  "language_info": {
   "codemirror_mode": {
    "name": "ipython",
    "version": 3
   },
   "file_extension": ".py",
   "mimetype": "text/x-python",
   "name": "python",
   "nbconvert_exporter": "python",
   "pygments_lexer": "ipython3",
   "version": "3.7.4"
  }
 },
 "nbformat": 4,
 "nbformat_minor": 5
}
